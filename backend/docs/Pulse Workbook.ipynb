{
 "cells": [
  {
   "cell_type": "code",
   "execution_count": 2,
   "metadata": {},
   "outputs": [],
   "source": [
    "import pandas as pd\n",
    "import numpy as np\n",
    "\n",
    "\n",
    "\n",
    "\n",
    "#First making sure integers don't have floating points\n",
    "pd.set_option('precision', 0)\n",
    "#loading Data File\n",
    "member_export = pd.read_excel('March HF LOB.xlsx')\n",
    "member_participation = pd.read_excel('March Member Participation.xlsx', sheet_name ='Points Earned', parse_date='Participation Date')\n",
    "# member_redemption = pd.read_excel('HF Member Redemption.xlsx', parse_date='Updated')\n",
    "\n",
    "#cleaning the member export for valid members\n",
    "df = member_export.loc[(member_export['Activated'] == True) \n",
    "                                        & (member_export['Email Valid'] == True) \n",
    "                                        & (member_export['Test Account'] == False) \n",
    "                                        & (member_export['User Role'] == 'MEMBER')]"
   ]
  },
  {
   "cell_type": "code",
   "execution_count": null,
   "metadata": {},
   "outputs": [],
   "source": [
    "#For when I want to be able to return the values of each column\n",
    "# list(df.columns)\n",
    "\n",
    "print(df)"
   ]
  },
  {
   "cell_type": "code",
   "execution_count": null,
   "metadata": {},
   "outputs": [],
   "source": [
    "df['Status'].value_counts()"
   ]
  },
  {
   "cell_type": "code",
   "execution_count": 2,
   "metadata": {},
   "outputs": [],
   "source": [
    "active_inactive = df['Status'].value_counts().sort_index()"
   ]
  },
  {
   "cell_type": "code",
   "execution_count": 3,
   "metadata": {
    "scrolled": true
   },
   "outputs": [
    {
     "name": "stdout",
     "output_type": "stream",
     "text": [
      "ACTIVE      475\n",
      "CLOSED      346\n",
      "DELETED     321\n",
      "INACTIVE    351\n",
      "Name: Status, dtype: int64\n"
     ]
    }
   ],
   "source": [
    "print(active_inactive)"
   ]
  },
  {
   "cell_type": "code",
   "execution_count": null,
   "metadata": {},
   "outputs": [],
   "source": []
  },
  {
   "cell_type": "code",
   "execution_count": null,
   "metadata": {},
   "outputs": [],
   "source": []
  },
  {
   "cell_type": "code",
   "execution_count": 4,
   "metadata": {
    "scrolled": false
   },
   "outputs": [
    {
     "data": {
      "text/html": [
       "<div>\n",
       "<style scoped>\n",
       "    .dataframe tbody tr th:only-of-type {\n",
       "        vertical-align: middle;\n",
       "    }\n",
       "\n",
       "    .dataframe tbody tr th {\n",
       "        vertical-align: top;\n",
       "    }\n",
       "\n",
       "    .dataframe thead th {\n",
       "        text-align: right;\n",
       "    }\n",
       "</style>\n",
       "<table border=\"1\" class=\"dataframe\">\n",
       "  <thead>\n",
       "    <tr style=\"text-align: right;\">\n",
       "      <th></th>\n",
       "      <th>User ID</th>\n",
       "      <th>User Role</th>\n",
       "      <th>Username</th>\n",
       "      <th>Email</th>\n",
       "      <th>FirstName</th>\n",
       "      <th>LastName</th>\n",
       "      <th>Status</th>\n",
       "      <th>Erased</th>\n",
       "      <th>Activated</th>\n",
       "      <th>Email Valid</th>\n",
       "      <th>...</th>\n",
       "      <th>Survey Name</th>\n",
       "      <th>Survey ID</th>\n",
       "      <th>Survey Response ID</th>\n",
       "      <th>Login Count</th>\n",
       "      <th>Content Count</th>\n",
       "      <th>Content Survey Count</th>\n",
       "      <th>Content Attachment Count</th>\n",
       "      <th>Total Comment Count</th>\n",
       "      <th>LOB</th>\n",
       "      <th>HFReportedLOB</th>\n",
       "    </tr>\n",
       "  </thead>\n",
       "  <tbody>\n",
       "    <tr>\n",
       "      <td>7</td>\n",
       "      <td>1028438</td>\n",
       "      <td>MEMBER</td>\n",
       "      <td>sschemx93</td>\n",
       "      <td>sschemx93@gmail.com</td>\n",
       "      <td>Samantha</td>\n",
       "      <td>Schem</td>\n",
       "      <td>ACTIVE</td>\n",
       "      <td>NaN</td>\n",
       "      <td>True</td>\n",
       "      <td>True</td>\n",
       "      <td>...</td>\n",
       "      <td>Community Screener</td>\n",
       "      <td>SV_eXrf9NEHs9OsThH</td>\n",
       "      <td>R_3hDqFGPdprpWdWt</td>\n",
       "      <td>21</td>\n",
       "      <td>0</td>\n",
       "      <td>10</td>\n",
       "      <td>0</td>\n",
       "      <td>2</td>\n",
       "      <td>QHP</td>\n",
       "      <td>QHPPlan</td>\n",
       "    </tr>\n",
       "    <tr>\n",
       "      <td>18</td>\n",
       "      <td>1028457</td>\n",
       "      <td>MEMBER</td>\n",
       "      <td>rlindenfelzer</td>\n",
       "      <td>richard@lindenfelzer.com</td>\n",
       "      <td>Richard</td>\n",
       "      <td>Lindenfelzer</td>\n",
       "      <td>ACTIVE</td>\n",
       "      <td>NaN</td>\n",
       "      <td>True</td>\n",
       "      <td>True</td>\n",
       "      <td>...</td>\n",
       "      <td>Community Screener</td>\n",
       "      <td>SV_eXrf9NEHs9OsThH</td>\n",
       "      <td>R_324wGASWJ1YZRXJ</td>\n",
       "      <td>133</td>\n",
       "      <td>0</td>\n",
       "      <td>35</td>\n",
       "      <td>1</td>\n",
       "      <td>14</td>\n",
       "      <td>Medicaid</td>\n",
       "      <td>MedicaidPlan</td>\n",
       "    </tr>\n",
       "    <tr>\n",
       "      <td>19</td>\n",
       "      <td>1028464</td>\n",
       "      <td>MEMBER</td>\n",
       "      <td>anewnormal</td>\n",
       "      <td>a.newnormal.1001@gmail.com</td>\n",
       "      <td>Jamie</td>\n",
       "      <td>Grogan</td>\n",
       "      <td>ACTIVE</td>\n",
       "      <td>NaN</td>\n",
       "      <td>True</td>\n",
       "      <td>True</td>\n",
       "      <td>...</td>\n",
       "      <td>Community Screener</td>\n",
       "      <td>SV_eXrf9NEHs9OsThH</td>\n",
       "      <td>R_1I4tqLVmd0a2P8H</td>\n",
       "      <td>8</td>\n",
       "      <td>0</td>\n",
       "      <td>8</td>\n",
       "      <td>0</td>\n",
       "      <td>3</td>\n",
       "      <td>Medicaid</td>\n",
       "      <td>MedicaidPlan</td>\n",
       "    </tr>\n",
       "    <tr>\n",
       "      <td>26</td>\n",
       "      <td>1028489</td>\n",
       "      <td>MEMBER</td>\n",
       "      <td>cece</td>\n",
       "      <td>hotdiamondck1@yahoo.com</td>\n",
       "      <td>Beth</td>\n",
       "      <td>Ortiz</td>\n",
       "      <td>INACTIVE</td>\n",
       "      <td>NaN</td>\n",
       "      <td>True</td>\n",
       "      <td>True</td>\n",
       "      <td>...</td>\n",
       "      <td>Community Screener</td>\n",
       "      <td>SV_eXrf9NEHs9OsThH</td>\n",
       "      <td>R_8tYCSsoaeQF9I1H</td>\n",
       "      <td>9</td>\n",
       "      <td>0</td>\n",
       "      <td>5</td>\n",
       "      <td>0</td>\n",
       "      <td>0</td>\n",
       "      <td>Medicaid</td>\n",
       "      <td>MedicaidPlan</td>\n",
       "    </tr>\n",
       "    <tr>\n",
       "      <td>29</td>\n",
       "      <td>1028495</td>\n",
       "      <td>MEMBER</td>\n",
       "      <td>molesworth2</td>\n",
       "      <td>wendy@johnandwendy.com</td>\n",
       "      <td>Wendy</td>\n",
       "      <td>Walters</td>\n",
       "      <td>INACTIVE</td>\n",
       "      <td>NaN</td>\n",
       "      <td>True</td>\n",
       "      <td>True</td>\n",
       "      <td>...</td>\n",
       "      <td>Community Screener</td>\n",
       "      <td>SV_eXrf9NEHs9OsThH</td>\n",
       "      <td>R_1eUUxDJlYPQqgN9</td>\n",
       "      <td>53</td>\n",
       "      <td>0</td>\n",
       "      <td>29</td>\n",
       "      <td>0</td>\n",
       "      <td>16</td>\n",
       "      <td>Medicaid</td>\n",
       "      <td>MedicaidPlan</td>\n",
       "    </tr>\n",
       "    <tr>\n",
       "      <td>...</td>\n",
       "      <td>...</td>\n",
       "      <td>...</td>\n",
       "      <td>...</td>\n",
       "      <td>...</td>\n",
       "      <td>...</td>\n",
       "      <td>...</td>\n",
       "      <td>...</td>\n",
       "      <td>...</td>\n",
       "      <td>...</td>\n",
       "      <td>...</td>\n",
       "      <td>...</td>\n",
       "      <td>...</td>\n",
       "      <td>...</td>\n",
       "      <td>...</td>\n",
       "      <td>...</td>\n",
       "      <td>...</td>\n",
       "      <td>...</td>\n",
       "      <td>...</td>\n",
       "      <td>...</td>\n",
       "      <td>...</td>\n",
       "      <td>...</td>\n",
       "    </tr>\n",
       "    <tr>\n",
       "      <td>1802</td>\n",
       "      <td>1265358</td>\n",
       "      <td>MEMBER</td>\n",
       "      <td>kristindegroot</td>\n",
       "      <td>kristindegroot923@gmail.com</td>\n",
       "      <td>Kristin</td>\n",
       "      <td>DeGroot</td>\n",
       "      <td>ACTIVE</td>\n",
       "      <td>NaN</td>\n",
       "      <td>True</td>\n",
       "      <td>True</td>\n",
       "      <td>...</td>\n",
       "      <td>V2 Community Screener</td>\n",
       "      <td>SV_dbX2gERcwAwJ8vr</td>\n",
       "      <td>R_1Hcmbz0IXWYzCzX</td>\n",
       "      <td>3</td>\n",
       "      <td>0</td>\n",
       "      <td>3</td>\n",
       "      <td>0</td>\n",
       "      <td>0</td>\n",
       "      <td>Medicaid Plan</td>\n",
       "      <td>MedicaidPlan</td>\n",
       "    </tr>\n",
       "    <tr>\n",
       "      <td>1803</td>\n",
       "      <td>1267331</td>\n",
       "      <td>MEMBER</td>\n",
       "      <td>missreyn1</td>\n",
       "      <td>mz.reynoso@gmail.com</td>\n",
       "      <td>Gercis</td>\n",
       "      <td>Reynoso</td>\n",
       "      <td>ACTIVE</td>\n",
       "      <td>NaN</td>\n",
       "      <td>True</td>\n",
       "      <td>True</td>\n",
       "      <td>...</td>\n",
       "      <td>V2 Community Screener</td>\n",
       "      <td>SV_dbX2gERcwAwJ8vr</td>\n",
       "      <td>R_2CTw0AlUgcItg6D</td>\n",
       "      <td>9</td>\n",
       "      <td>0</td>\n",
       "      <td>4</td>\n",
       "      <td>0</td>\n",
       "      <td>0</td>\n",
       "      <td>Medicaid Plan</td>\n",
       "      <td>MedicaidPlan</td>\n",
       "    </tr>\n",
       "    <tr>\n",
       "      <td>1804</td>\n",
       "      <td>1271083</td>\n",
       "      <td>MEMBER</td>\n",
       "      <td>mikebear</td>\n",
       "      <td>mikejmare@gmail.com</td>\n",
       "      <td>Mike</td>\n",
       "      <td>Mare</td>\n",
       "      <td>ACTIVE</td>\n",
       "      <td>NaN</td>\n",
       "      <td>True</td>\n",
       "      <td>True</td>\n",
       "      <td>...</td>\n",
       "      <td>V2 Community Screener</td>\n",
       "      <td>SV_dbX2gERcwAwJ8vr</td>\n",
       "      <td>R_3Mlle74I4XOsZ50</td>\n",
       "      <td>6</td>\n",
       "      <td>0</td>\n",
       "      <td>3</td>\n",
       "      <td>0</td>\n",
       "      <td>0</td>\n",
       "      <td>QHP</td>\n",
       "      <td>QHPPlan</td>\n",
       "    </tr>\n",
       "    <tr>\n",
       "      <td>1805</td>\n",
       "      <td>1273537</td>\n",
       "      <td>MEMBER</td>\n",
       "      <td>juddlevy</td>\n",
       "      <td>juddlevy@outlook.com</td>\n",
       "      <td>Judd</td>\n",
       "      <td>Levy</td>\n",
       "      <td>ACTIVE</td>\n",
       "      <td>NaN</td>\n",
       "      <td>True</td>\n",
       "      <td>True</td>\n",
       "      <td>...</td>\n",
       "      <td>V2 Community Screener</td>\n",
       "      <td>SV_dbX2gERcwAwJ8vr</td>\n",
       "      <td>R_3MlMKkmFfhuL9Tc</td>\n",
       "      <td>6</td>\n",
       "      <td>0</td>\n",
       "      <td>2</td>\n",
       "      <td>0</td>\n",
       "      <td>0</td>\n",
       "      <td>Medicaid Plan</td>\n",
       "      <td>MedicaidPlan</td>\n",
       "    </tr>\n",
       "    <tr>\n",
       "      <td>1806</td>\n",
       "      <td>1273968</td>\n",
       "      <td>MEMBER</td>\n",
       "      <td>jtuckerperc</td>\n",
       "      <td>jtuckerpercussion@gmail.com</td>\n",
       "      <td>Joe</td>\n",
       "      <td>Tucker</td>\n",
       "      <td>ACTIVE</td>\n",
       "      <td>NaN</td>\n",
       "      <td>True</td>\n",
       "      <td>True</td>\n",
       "      <td>...</td>\n",
       "      <td>V2 Community Screener</td>\n",
       "      <td>SV_dbX2gERcwAwJ8vr</td>\n",
       "      <td>R_rpqWI1zvXDIJJVT</td>\n",
       "      <td>1</td>\n",
       "      <td>0</td>\n",
       "      <td>2</td>\n",
       "      <td>0</td>\n",
       "      <td>0</td>\n",
       "      <td>Medicaid Plan</td>\n",
       "      <td>MedicaidPlan</td>\n",
       "    </tr>\n",
       "  </tbody>\n",
       "</table>\n",
       "<p>826 rows × 36 columns</p>\n",
       "</div>"
      ],
      "text/plain": [
       "      User ID User Role        Username                        Email  \\\n",
       "7     1028438    MEMBER       sschemx93          sschemx93@gmail.com   \n",
       "18    1028457    MEMBER   rlindenfelzer     richard@lindenfelzer.com   \n",
       "19    1028464    MEMBER      anewnormal   a.newnormal.1001@gmail.com   \n",
       "26    1028489    MEMBER            cece      hotdiamondck1@yahoo.com   \n",
       "29    1028495    MEMBER     molesworth2       wendy@johnandwendy.com   \n",
       "...       ...       ...             ...                          ...   \n",
       "1802  1265358    MEMBER  kristindegroot  kristindegroot923@gmail.com   \n",
       "1803  1267331    MEMBER       missreyn1         mz.reynoso@gmail.com   \n",
       "1804  1271083    MEMBER        mikebear          mikejmare@gmail.com   \n",
       "1805  1273537    MEMBER        juddlevy         juddlevy@outlook.com   \n",
       "1806  1273968    MEMBER     jtuckerperc  jtuckerpercussion@gmail.com   \n",
       "\n",
       "     FirstName      LastName    Status Erased  Activated  Email Valid  ...  \\\n",
       "7     Samantha         Schem    ACTIVE    NaN       True         True  ...   \n",
       "18     Richard  Lindenfelzer    ACTIVE    NaN       True         True  ...   \n",
       "19       Jamie        Grogan    ACTIVE    NaN       True         True  ...   \n",
       "26        Beth         Ortiz  INACTIVE    NaN       True         True  ...   \n",
       "29       Wendy       Walters  INACTIVE    NaN       True         True  ...   \n",
       "...        ...           ...       ...    ...        ...          ...  ...   \n",
       "1802   Kristin       DeGroot    ACTIVE    NaN       True         True  ...   \n",
       "1803   Gercis       Reynoso     ACTIVE    NaN       True         True  ...   \n",
       "1804      Mike          Mare    ACTIVE    NaN       True         True  ...   \n",
       "1805      Judd          Levy    ACTIVE    NaN       True         True  ...   \n",
       "1806       Joe        Tucker    ACTIVE    NaN       True         True  ...   \n",
       "\n",
       "                Survey Name           Survey ID  Survey Response ID  \\\n",
       "7        Community Screener  SV_eXrf9NEHs9OsThH   R_3hDqFGPdprpWdWt   \n",
       "18       Community Screener  SV_eXrf9NEHs9OsThH   R_324wGASWJ1YZRXJ   \n",
       "19       Community Screener  SV_eXrf9NEHs9OsThH   R_1I4tqLVmd0a2P8H   \n",
       "26       Community Screener  SV_eXrf9NEHs9OsThH   R_8tYCSsoaeQF9I1H   \n",
       "29       Community Screener  SV_eXrf9NEHs9OsThH   R_1eUUxDJlYPQqgN9   \n",
       "...                     ...                 ...                 ...   \n",
       "1802  V2 Community Screener  SV_dbX2gERcwAwJ8vr   R_1Hcmbz0IXWYzCzX   \n",
       "1803  V2 Community Screener  SV_dbX2gERcwAwJ8vr   R_2CTw0AlUgcItg6D   \n",
       "1804  V2 Community Screener  SV_dbX2gERcwAwJ8vr   R_3Mlle74I4XOsZ50   \n",
       "1805  V2 Community Screener  SV_dbX2gERcwAwJ8vr   R_3MlMKkmFfhuL9Tc   \n",
       "1806  V2 Community Screener  SV_dbX2gERcwAwJ8vr   R_rpqWI1zvXDIJJVT   \n",
       "\n",
       "     Login Count Content Count Content Survey Count Content Attachment Count  \\\n",
       "7             21             0                   10                        0   \n",
       "18           133             0                   35                        1   \n",
       "19             8             0                    8                        0   \n",
       "26             9             0                    5                        0   \n",
       "29            53             0                   29                        0   \n",
       "...          ...           ...                  ...                      ...   \n",
       "1802           3             0                    3                        0   \n",
       "1803           9             0                    4                        0   \n",
       "1804           6             0                    3                        0   \n",
       "1805           6             0                    2                        0   \n",
       "1806           1             0                    2                        0   \n",
       "\n",
       "     Total Comment Count            LOB  HFReportedLOB  \n",
       "7                      2            QHP        QHPPlan  \n",
       "18                    14       Medicaid   MedicaidPlan  \n",
       "19                     3       Medicaid   MedicaidPlan  \n",
       "26                     0       Medicaid   MedicaidPlan  \n",
       "29                    16       Medicaid   MedicaidPlan  \n",
       "...                  ...            ...            ...  \n",
       "1802                   0  Medicaid Plan   MedicaidPlan  \n",
       "1803                   0  Medicaid Plan   MedicaidPlan  \n",
       "1804                   0            QHP        QHPPlan  \n",
       "1805                   0  Medicaid Plan   MedicaidPlan  \n",
       "1806                   0  Medicaid Plan   MedicaidPlan  \n",
       "\n",
       "[826 rows x 36 columns]"
      ]
     },
     "execution_count": 4,
     "metadata": {},
     "output_type": "execute_result"
    }
   ],
   "source": [
    "###This is how to filter with or logic\n",
    "df.loc[(df['Status'] == 'ACTIVE') | (df['Status'] == 'INACTIVE')]"
   ]
  },
  {
   "cell_type": "code",
   "execution_count": null,
   "metadata": {},
   "outputs": [],
   "source": []
  },
  {
   "cell_type": "code",
   "execution_count": null,
   "metadata": {},
   "outputs": [],
   "source": []
  },
  {
   "cell_type": "code",
   "execution_count": null,
   "metadata": {},
   "outputs": [],
   "source": []
  },
  {
   "cell_type": "code",
   "execution_count": 5,
   "metadata": {},
   "outputs": [],
   "source": [
    "logins = df.loc[(df['Status'] == 'INACTIVE')]['Last Login Date']"
   ]
  },
  {
   "cell_type": "code",
   "execution_count": null,
   "metadata": {},
   "outputs": [],
   "source": []
  },
  {
   "cell_type": "code",
   "execution_count": 6,
   "metadata": {},
   "outputs": [
    {
     "name": "stdout",
     "output_type": "stream",
     "text": [
      "26      01/16/2020 23:27:12 PST\n",
      "29      02/06/2020 19:30:00 PST\n",
      "52      12/19/2019 18:14:15 PST\n",
      "64      01/16/2020 11:39:01 PST\n",
      "86      02/22/2020 19:05:04 PST\n",
      "                 ...           \n",
      "1796    03/01/2020 21:36:32 PST\n",
      "1797    02/29/2020 11:07:01 PST\n",
      "1799    03/01/2020 22:33:04 PST\n",
      "1800    03/03/2020 11:46:48 PST\n",
      "1801    03/06/2020 04:33:23 PST\n",
      "Name: Last Login Date, Length: 351, dtype: object\n"
     ]
    }
   ],
   "source": [
    "print(logins)"
   ]
  },
  {
   "cell_type": "code",
   "execution_count": 35,
   "metadata": {},
   "outputs": [],
   "source": [
    "result = list(map(lambda x: x[0:10], logins))"
   ]
  },
  {
   "cell_type": "code",
   "execution_count": 41,
   "metadata": {},
   "outputs": [],
   "source": [
    "date_time = list(map(lambda x: datetime.strptime(x,'%m/%d/%Y').date(), result))"
   ]
  },
  {
   "cell_type": "code",
   "execution_count": 44,
   "metadata": {},
   "outputs": [],
   "source": [
    "##This works, but for some reason I want to make it a list comprehension\n",
    "\n",
    "date_list_comp = [x[0:10] for x in logins]"
   ]
  },
  {
   "cell_type": "code",
   "execution_count": 58,
   "metadata": {},
   "outputs": [
    {
     "ename": "AttributeError",
     "evalue": "module 'datetime' has no attribute 'strptime'",
     "output_type": "error",
     "traceback": [
      "\u001b[1;31m---------------------------------------------------------------------------\u001b[0m",
      "\u001b[1;31mAttributeError\u001b[0m                            Traceback (most recent call last)",
      "\u001b[1;32m<ipython-input-58-85820953d490>\u001b[0m in \u001b[0;36m<module>\u001b[1;34m\u001b[0m\n\u001b[1;32m----> 1\u001b[1;33m \u001b[0mtest\u001b[0m \u001b[1;33m=\u001b[0m \u001b[1;33m[\u001b[0m\u001b[0mdatetime\u001b[0m\u001b[1;33m.\u001b[0m\u001b[0mstrptime\u001b[0m\u001b[1;33m(\u001b[0m\u001b[0mx\u001b[0m\u001b[1;33m[\u001b[0m\u001b[1;36m0\u001b[0m\u001b[1;33m:\u001b[0m\u001b[1;36m10\u001b[0m\u001b[1;33m]\u001b[0m\u001b[1;33m,\u001b[0m\u001b[1;34m'%m/%d/%Y'\u001b[0m\u001b[1;33m)\u001b[0m\u001b[1;33m.\u001b[0m\u001b[0mdate\u001b[0m\u001b[1;33m(\u001b[0m\u001b[1;33m)\u001b[0m \u001b[1;32mfor\u001b[0m \u001b[0mx\u001b[0m \u001b[1;32min\u001b[0m \u001b[0mdate_list_comp\u001b[0m\u001b[1;33m]\u001b[0m\u001b[1;33m\u001b[0m\u001b[1;33m\u001b[0m\u001b[0m\n\u001b[0m",
      "\u001b[1;32m<ipython-input-58-85820953d490>\u001b[0m in \u001b[0;36m<listcomp>\u001b[1;34m(.0)\u001b[0m\n\u001b[1;32m----> 1\u001b[1;33m \u001b[0mtest\u001b[0m \u001b[1;33m=\u001b[0m \u001b[1;33m[\u001b[0m\u001b[0mdatetime\u001b[0m\u001b[1;33m.\u001b[0m\u001b[0mstrptime\u001b[0m\u001b[1;33m(\u001b[0m\u001b[0mx\u001b[0m\u001b[1;33m[\u001b[0m\u001b[1;36m0\u001b[0m\u001b[1;33m:\u001b[0m\u001b[1;36m10\u001b[0m\u001b[1;33m]\u001b[0m\u001b[1;33m,\u001b[0m\u001b[1;34m'%m/%d/%Y'\u001b[0m\u001b[1;33m)\u001b[0m\u001b[1;33m.\u001b[0m\u001b[0mdate\u001b[0m\u001b[1;33m(\u001b[0m\u001b[1;33m)\u001b[0m \u001b[1;32mfor\u001b[0m \u001b[0mx\u001b[0m \u001b[1;32min\u001b[0m \u001b[0mdate_list_comp\u001b[0m\u001b[1;33m]\u001b[0m\u001b[1;33m\u001b[0m\u001b[1;33m\u001b[0m\u001b[0m\n\u001b[0m",
      "\u001b[1;31mAttributeError\u001b[0m: module 'datetime' has no attribute 'strptime'"
     ]
    }
   ],
   "source": [
    "test = [datetime.strptime(x[0:10],'%m/%d/%Y').date() for x in date_list_comp]"
   ]
  },
  {
   "cell_type": "code",
   "execution_count": 46,
   "metadata": {},
   "outputs": [],
   "source": [
    "date_list_to_time = [datetime.strptime(x,'%m/%d/%Y').date() for x in date_list_comp]"
   ]
  },
  {
   "cell_type": "code",
   "execution_count": 56,
   "metadata": {},
   "outputs": [],
   "source": [
    "import datetime\n",
    "\n",
    "today = datetime.date.today()\n",
    "test = [(today - x).days for x in date_list_to_time]"
   ]
  },
  {
   "cell_type": "code",
   "execution_count": 59,
   "metadata": {
    "scrolled": true
   },
   "outputs": [
    {
     "name": "stdout",
     "output_type": "stream",
     "text": [
      "[128, 107, 156, 128, 91, 136, 123, 107, 87, 114, 120, 120, 149, 120, 128, 103, 157, 144, 90, 94, 141, 155, 94, 114, 115, 87, 158, 119, 109, 91, 86, 155, 117, 145, 138, 120, 123, 103, 124, 114, 109, 81, 138, 94, 110, 115, 79, 75, 75, 120, 151, 100, 91, 162, 131, 81, 103, 114, 115, 114, 75, 120, 94, 125, 92, 159, 95, 157, 124, 107, 123, 76, 141, 124, 118, 90, 106, 90, 89, 106, 141, 124, 138, 109, 82, 75, 106, 137, 120, 107, 90, 95, 138, 136, 114, 119, 78, 109, 100, 101, 110, 128, 135, 113, 158, 99, 137, 120, 74, 153, 138, 87, 159, 159, 74, 156, 120, 107, 136, 75, 120, 138, 114, 135, 94, 94, 92, 152, 87, 110, 103, 92, 96, 92, 92, 120, 137, 92, 85, 128, 136, 139, 114, 99, 114, 103, 96, 114, 114, 84, 94, 114, 114, 114, 114, 108, 114, 110, 110, 114, 114, 114, 101, 112, 93, 114, 113, 94, 114, 114, 110, 114, 114, 114, 114, 114, 94, 75, 86, 113, 113, 113, 100, 113, 113, 110, 100, 110, 96, 86, 113, 110, 113, 83, 100, 113, 100, 85, 113, 113, 113, 113, 95, 113, 102, 103, 113, 113, 86, 90, 103, 113, 113, 86, 113, 113, 113, 85, 113, 113, 113, 113, 113, 113, 110, 82, 113, 111, 113, 113, 92, 100, 113, 112, 110, 112, 83, 111, 112, 112, 103, 89, 112, 111, 82, 112, 111, 111, 75, 110, 110, 110, 100, 110, 109, 94, 109, 78, 109, 107, 107, 107, 92, 107, 107, 107, 107, 99, 107, 107, 107, 107, 107, 107, 96, 107, 107, 107, 96, 100, 107, 107, 86, 106, 106, 106, 106, 106, 96, 106, 106, 102, 106, 106, 106, 106, 87, 89, 106, 106, 106, 94, 105, 105, 103, 105, 105, 91, 104, 104, 104, 104, 103, 103, 103, 100, 103, 94, 85, 103, 92, 103, 103, 103, 103, 103, 103, 103, 94, 100, 89, 100, 93, 89, 99, 98, 98, 98, 97, 94, 91, 91, 88, 86, 86, 86, 83, 84, 83, 81, 78]\n"
     ]
    }
   ],
   "source": [
    "print(test)"
   ]
  },
  {
   "cell_type": "code",
   "execution_count": 67,
   "metadata": {},
   "outputs": [],
   "source": [
    "level_1 = len([x for x in test if x > 80 and x < 100])"
   ]
  },
  {
   "cell_type": "code",
   "execution_count": 69,
   "metadata": {},
   "outputs": [
    {
     "name": "stdout",
     "output_type": "stream",
     "text": [
      "[91, 87, 90, 94, 94, 87, 91, 86, 81, 94, 91, 81, 94, 92, 95, 90, 90, 89, 82, 90, 95, 99, 87, 94, 94, 92, 87, 92, 96, 92, 92, 92, 85, 99, 96, 84, 94, 93, 94, 94, 86, 96, 86, 83, 85, 95, 86, 90, 86, 85, 82, 92, 83, 89, 82, 94, 92, 99, 96, 96, 86, 96, 87, 89, 94, 91, 94, 85, 92, 94, 89, 93, 89, 99, 98, 98, 98, 97, 94, 91, 91, 88, 86, 86, 86, 83, 84, 83, 81]\n"
     ]
    },
    {
     "data": {
      "text/plain": [
       "89"
      ]
     },
     "execution_count": 69,
     "metadata": {},
     "output_type": "execute_result"
    }
   ],
   "source": [
    "print(level_1)\n",
    "len(level_1)"
   ]
  },
  {
   "cell_type": "code",
   "execution_count": 29,
   "metadata": {},
   "outputs": [],
   "source": [
    "from datetime import datetime\n",
    "otherday = datetime.strptime('01/16/2020','%m/%d/%Y').date()"
   ]
  },
  {
   "cell_type": "code",
   "execution_count": 50,
   "metadata": {},
   "outputs": [],
   "source": [
    "import datetime\n",
    "\n",
    "today = datetime.date.today()"
   ]
  },
  {
   "cell_type": "code",
   "execution_count": 18,
   "metadata": {},
   "outputs": [
    {
     "name": "stdout",
     "output_type": "stream",
     "text": [
      "2020-05-23\n"
     ]
    }
   ],
   "source": [
    "print(today)"
   ]
  },
  {
   "cell_type": "code",
   "execution_count": 31,
   "metadata": {},
   "outputs": [
    {
     "name": "stdout",
     "output_type": "stream",
     "text": [
      "128 days, 0:00:00\n"
     ]
    }
   ],
   "source": [
    "print(today - otherday)"
   ]
  },
  {
   "cell_type": "code",
   "execution_count": null,
   "metadata": {},
   "outputs": [],
   "source": [
    "member_participation = pd.read_excel('March Member Participation.xlsx', sheet_name ='Points Earned', parse_date='Participation Date')\n"
   ]
  },
  {
   "cell_type": "code",
   "execution_count": 3,
   "metadata": {},
   "outputs": [],
   "source": [
    "member_participation = pd.ExcelFile('March Member Participation.xlsx')\n",
    "df1 = pd.read_excel(member_participation, 'Points Earned')"
   ]
  },
  {
   "cell_type": "code",
   "execution_count": 81,
   "metadata": {},
   "outputs": [
    {
     "name": "stdout",
     "output_type": "stream",
     "text": [
      "<class 'pandas.core.series.Series'>\n"
     ]
    }
   ],
   "source": [
    "print(type(df1['Points Earned']))"
   ]
  },
  {
   "cell_type": "code",
   "execution_count": 82,
   "metadata": {},
   "outputs": [
    {
     "data": {
      "text/plain": [
       "1324"
      ]
     },
     "execution_count": 82,
     "metadata": {},
     "output_type": "execute_result"
    }
   ],
   "source": [
    "df1['Points Earned'].sum()"
   ]
  },
  {
   "cell_type": "code",
   "execution_count": 105,
   "metadata": {},
   "outputs": [],
   "source": [
    "#Working on actions\n",
    "\n",
    "actions = pd.read_excel(member_participation, 'Export Summary')"
   ]
  },
  {
   "cell_type": "code",
   "execution_count": 111,
   "metadata": {},
   "outputs": [
    {
     "name": "stdout",
     "output_type": "stream",
     "text": [
      "                    Title            March Metrics\n",
      "0              Date Range  03/01/2020 - 04/01/2020\n",
      "1    Participation Counts                      NaN\n",
      "2                  Logins                     1763\n",
      "3                Comments                      565\n",
      "4       Surveys Completed                      361\n",
      "5    Quick Poll Completed                        0\n",
      "6  Member Posts Submitted                        0\n",
      "7                   Views                     2286\n",
      "8          Files Uploaded                       29\n",
      "9  Lifetime Points Earned                     7182\n"
     ]
    }
   ],
   "source": [
    "print(actions)"
   ]
  },
  {
   "cell_type": "code",
   "execution_count": 137,
   "metadata": {},
   "outputs": [
    {
     "name": "stdout",
     "output_type": "stream",
     "text": [
      "29\n"
     ]
    }
   ],
   "source": [
    "print(int(actions.iloc[8,1]))"
   ]
  },
  {
   "cell_type": "code",
   "execution_count": null,
   "metadata": {},
   "outputs": [],
   "source": []
  },
  {
   "cell_type": "code",
   "execution_count": 4,
   "metadata": {},
   "outputs": [],
   "source": [
    "actions2 = pd.read_excel(member_participation, 'Member Participation Counts')"
   ]
  },
  {
   "cell_type": "code",
   "execution_count": 8,
   "metadata": {},
   "outputs": [
    {
     "data": {
      "text/plain": [
       "int"
      ]
     },
     "execution_count": 8,
     "metadata": {},
     "output_type": "execute_result"
    }
   ],
   "source": [
    "type(len(actions2['Username']))"
   ]
  },
  {
   "cell_type": "code",
   "execution_count": null,
   "metadata": {},
   "outputs": [],
   "source": []
  },
  {
   "cell_type": "code",
   "execution_count": null,
   "metadata": {},
   "outputs": [],
   "source": []
  },
  {
   "cell_type": "code",
   "execution_count": null,
   "metadata": {},
   "outputs": [],
   "source": []
  },
  {
   "cell_type": "code",
   "execution_count": null,
   "metadata": {},
   "outputs": [],
   "source": []
  },
  {
   "cell_type": "code",
   "execution_count": 84,
   "metadata": {},
   "outputs": [],
   "source": [
    "member_redemption = pd.read_excel('March Member Redemption.xlsx', sheet_name ='Redemptions')\n"
   ]
  },
  {
   "cell_type": "code",
   "execution_count": 102,
   "metadata": {},
   "outputs": [],
   "source": [
    "list_of_values = sum([int(x[1:2]) if x[0:2] == '$5' else int(x[1:3]) for x in member_redemption['Reward']])"
   ]
  },
  {
   "cell_type": "code",
   "execution_count": 103,
   "metadata": {},
   "outputs": [
    {
     "name": "stdout",
     "output_type": "stream",
     "text": [
      "4600\n"
     ]
    }
   ],
   "source": [
    "print(list_of_values)"
   ]
  },
  {
   "cell_type": "code",
   "execution_count": null,
   "metadata": {},
   "outputs": [],
   "source": [
    "#WHICH ONE SHOULD I USE?? Pivot is the only one that actually works\n",
    "\n",
    "###df.pivot_table(index = 'Status', columns = 'HFReportedLOB')\n",
    "###df.pivot(index = 'Status', columns = 'HFReportedLOB')\n",
    "table = pd.crosstab(index = df['Status'],columns =  df['HFReportedLOB'])"
   ]
  },
  {
   "cell_type": "code",
   "execution_count": null,
   "metadata": {},
   "outputs": [],
   "source": [
    "pd.pivot_table(df, index = 'Status', columns = 'HFReportedLOB', aggfunc = 'sum')"
   ]
  },
  {
   "cell_type": "code",
   "execution_count": null,
   "metadata": {},
   "outputs": [],
   "source": [
    "print(table['Status'])\n",
    "\n",
    "table.values.tolist()"
   ]
  }
 ],
 "metadata": {
  "kernelspec": {
   "display_name": "Python 3",
   "language": "python",
   "name": "python3"
  },
  "language_info": {
   "codemirror_mode": {
    "name": "ipython",
    "version": 3
   },
   "file_extension": ".py",
   "mimetype": "text/x-python",
   "name": "python",
   "nbconvert_exporter": "python",
   "pygments_lexer": "ipython3",
   "version": "3.7.3"
  }
 },
 "nbformat": 4,
 "nbformat_minor": 2
}
